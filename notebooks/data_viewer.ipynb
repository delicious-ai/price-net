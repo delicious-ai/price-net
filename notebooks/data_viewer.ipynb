{
 "cells": [
  {
   "cell_type": "code",
   "execution_count": 1,
   "id": "1365ef64",
   "metadata": {},
   "outputs": [],
   "source": [
    "from pathlib import Path\n",
    "import json\n",
    "from ipywidgets import widgets\n",
    "from matplotlib import pyplot as plt\n",
    "\n",
    "from price_net.dataset import PriceAssociationDataset\n",
    "from price_net.schema import PriceAssociationScene\n",
    "from price_net.utils import plot_price_scene, plot_bboxes"
   ]
  },
  {
   "cell_type": "code",
   "execution_count": 2,
   "id": "bcf7e009",
   "metadata": {},
   "outputs": [],
   "source": [
    "while True:\n",
    "    dataset_dir = Path(input(\"Input the dataset directory: \"))\n",
    "    if dataset_dir.exists() and dataset_dir.is_dir():\n",
    "        break\n",
    "    print(\"Invalid dataset directory. Please try again.\")"
   ]
  },
  {
   "cell_type": "code",
   "execution_count": 7,
   "id": "287f392a",
   "metadata": {},
   "outputs": [],
   "source": [
    "def plot_scene(idx: int, scenes: list[PriceAssociationScene]):\n",
    "    plt.close()\n",
    "    fig, axs = plt.subplots(1, 3, figsize=(12, 4), width_ratios=[1.5, 2, 2])\n",
    "    axs = axs.ravel()\n",
    "    axs: list[plt.Axes]\n",
    "    graph_axis, img_axis, depth_axis = axs\n",
    "    scene = scenes[idx]\n",
    "\n",
    "    _, color_key = plot_price_scene(scene, ax=graph_axis)\n",
    "    graph_axis.set_title(\"Associations\")\n",
    "    fig.suptitle(scene.scene_id, fontsize=10)\n",
    "\n",
    "    image_path = (\n",
    "        dataset_dir / PriceAssociationDataset.IMAGES_DIR / f\"{scene.scene_id}.jpg\"\n",
    "    )\n",
    "    image = plt.imread(image_path)\n",
    "    height, width = image.shape[:2]\n",
    "    img_axis.imshow(image)\n",
    "    img_axis.set_title(\"Shelf Image\")\n",
    "    img_axis.axis(\"off\")\n",
    "\n",
    "    depth_path = (\n",
    "        dataset_dir / PriceAssociationDataset.DEPTH_MAPS_DIR / f\"{scene.scene_id}.jpg\"\n",
    "    )\n",
    "    depth_axis.imshow(plt.imread(depth_path))\n",
    "    depth_axis.set_title(\"Predicted Depth\")\n",
    "    depth_axis.axis(\"off\")\n",
    "\n",
    "    for group in scene.product_groups:\n",
    "        color = color_key.get(group.group_id, \"white\")\n",
    "        group_bboxes = [scene.product_bboxes[id_] for id_ in group.product_bbox_ids]\n",
    "        for ax in img_axis, depth_axis:\n",
    "            plot_bboxes(group_bboxes, ax, color=color, width=width, height=height)\n",
    "\n",
    "    for ax in img_axis, depth_axis:\n",
    "        plot_bboxes(\n",
    "            scene.price_bboxes.values(),\n",
    "            ax=ax,\n",
    "            linestyle=\"dashed\",\n",
    "            color=\"black\",\n",
    "            width=width,\n",
    "            height=height,\n",
    "        )\n",
    "\n",
    "    fig.tight_layout()\n",
    "    fig.set_dpi(100)\n",
    "    plt.show()\n",
    "\n",
    "\n",
    "with open(dataset_dir / PriceAssociationDataset.RAW_PRICE_SCENES_FNAME) as f:\n",
    "    scenes = [PriceAssociationScene(**x) for x in json.load(f)]\n",
    "scenes = sorted(scenes, key=lambda x: x.scene_id)"
   ]
  },
  {
   "cell_type": "code",
   "execution_count": null,
   "id": "9aa74ad0",
   "metadata": {},
   "outputs": [
    {
     "data": {
      "application/vnd.jupyter.widget-view+json": {
       "model_id": "abae5b4d869442de8d2b9cb2a095dd15",
       "version_major": 2,
       "version_minor": 0
      },
      "text/plain": [
       "interactive(children=(IntSlider(value=0, description='Scene Index', max=324), Output()), _dom_classes=('widget…"
      ]
     },
     "metadata": {},
     "output_type": "display_data"
    },
    {
     "data": {
      "text/plain": [
       "<function __main__.<lambda>(idx)>"
      ]
     },
     "metadata": {},
     "output_type": "display_data"
    }
   ],
   "source": [
    "def display_func(idx):\n",
    "    return plot_scene(idx=idx, scenes=scenes)\n",
    "\n",
    "\n",
    "idx_slider = widgets.IntSlider(\n",
    "    value=0, min=0, max=len(scenes) - 1, step=1, description=\"Scene Index\"\n",
    ")\n",
    "display(widgets.interact(display_func, idx=idx_slider))"
   ]
  },
  {
   "cell_type": "code",
   "execution_count": null,
   "id": "dd9a6684",
   "metadata": {},
   "outputs": [],
   "source": []
  }
 ],
 "metadata": {
  "kernelspec": {
   "display_name": "price-net (3.10.17)",
   "language": "python",
   "name": "python3"
  },
  "language_info": {
   "codemirror_mode": {
    "name": "ipython",
    "version": 3
   },
   "file_extension": ".py",
   "mimetype": "text/x-python",
   "name": "python",
   "nbconvert_exporter": "python",
   "pygments_lexer": "ipython3",
   "version": "3.10.17"
  }
 },
 "nbformat": 4,
 "nbformat_minor": 5
}
