{
 "cells": [
  {
   "cell_type": "code",
   "execution_count": null,
   "id": "1365ef64",
   "metadata": {},
   "outputs": [],
   "source": [
    "from pathlib import Path\n",
    "import json\n",
    "from ipywidgets import widgets\n",
    "from matplotlib import pyplot as plt\n",
    "\n",
    "from price_net.dataset import PriceAttributionDataset\n",
    "from price_net.schema import PriceAttributionScene\n",
    "from price_net.utils import plot_price_attribution_scene, plot_bboxes"
   ]
  },
  {
   "cell_type": "code",
   "execution_count": 2,
   "id": "bcf7e009",
   "metadata": {},
   "outputs": [],
   "source": [
    "while True:\n",
    "    dataset_dir = Path(input(\"Input the dataset directory: \"))\n",
    "    if dataset_dir.exists() and dataset_dir.is_dir():\n",
    "        break\n",
    "    print(\"Invalid dataset directory. Please try again.\")"
   ]
  },
  {
   "cell_type": "code",
   "execution_count": null,
   "id": "287f392a",
   "metadata": {},
   "outputs": [],
   "source": [
    "def plot_scene(idx: int, scenes: list[PriceAttributionScene]):\n",
    "    plt.close()\n",
    "    fig, axs = plt.subplots(1, 3, figsize=(12, 4), width_ratios=[1.5, 2, 2])\n",
    "    axs = axs.ravel()\n",
    "    axs: list[plt.Axes]\n",
    "    graph_axis, img_axis, depth_axis = axs\n",
    "    scene = scenes[idx]\n",
    "\n",
    "    _, color_key = plot_price_attribution_scene(scene, ax=graph_axis)\n",
    "    graph_axis.set_title(\"Associations\")\n",
    "    fig.suptitle(scene.scene_id, fontsize=10)\n",
    "\n",
    "    image_path = dataset_dir / PriceAttributionDataset.IMAGES_DIR / f\"{scene.scene_id}.jpg\"\n",
    "    image = plt.imread(image_path)\n",
    "    height, width = image.shape[:2]\n",
    "    img_axis.imshow(image)\n",
    "    img_axis.set_title(\"Shelf Image\")\n",
    "    img_axis.axis(\"off\")\n",
    "\n",
    "    depth_path = dataset_dir / PriceAttributionDataset.DEPTH_MAPS_DIR / f\"{scene.scene_id}.jpg\"\n",
    "    depth_axis.imshow(plt.imread(depth_path))\n",
    "    depth_axis.set_title(\"Predicted Depth\")\n",
    "    depth_axis.axis(\"off\")\n",
    "\n",
    "    for group in scene.product_groups:\n",
    "        color = color_key.get(group.group_id, \"white\")\n",
    "        group_bboxes = [scene.product_bboxes[id_] for id_ in group.product_bbox_ids]\n",
    "        for ax in img_axis, depth_axis:\n",
    "            plot_bboxes(group_bboxes, ax, color=color, width=width, height=height)\n",
    "    \n",
    "    for ax in img_axis, depth_axis:\n",
    "        plot_bboxes(scene.price_bboxes.values(), ax=ax, linestyle=\"dashed\", color=\"black\", width=width, height=height)\n",
    "\n",
    "    fig.tight_layout()\n",
    "    fig.set_dpi(100)\n",
    "    plt.show()\n",
    "\n",
    "\n",
    "with open(dataset_dir / PriceAttributionDataset.RAW_PRICE_SCENES_FNAME) as f:\n",
    "    scenes = [PriceAttributionScene(**x) for x in json.load(f)]"
   ]
  },
  {
   "cell_type": "code",
   "execution_count": null,
   "id": "9aa74ad0",
   "metadata": {},
   "outputs": [],
   "source": [
    "display_func = lambda idx: plot_scene(idx=idx, scenes=scenes)\n",
    "idx_slider = widgets.IntSlider(value=0, min=0, max=len(scenes)-1, step=1, description=\"Scene Index\")\n",
    "display(widgets.interact(display_func, idx=idx_slider))"
   ]
  }
 ],
 "metadata": {
  "kernelspec": {
   "display_name": "price-net (3.10.17)",
   "language": "python",
   "name": "python3"
  },
  "language_info": {
   "codemirror_mode": {
    "name": "ipython",
    "version": 3
   },
   "file_extension": ".py",
   "mimetype": "text/x-python",
   "name": "python",
   "nbconvert_exporter": "python",
   "pygments_lexer": "ipython3",
   "version": "3.10.17"
  }
 },
 "nbformat": 4,
 "nbformat_minor": 5
}
