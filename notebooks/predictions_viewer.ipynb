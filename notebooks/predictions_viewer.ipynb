{
 "cells": [
  {
   "cell_type": "code",
   "execution_count": 1,
   "id": "53392d8f",
   "metadata": {},
   "outputs": [],
   "source": [
    "from pathlib import Path\n",
    "import json\n",
    "from ipywidgets import widgets\n",
    "from matplotlib import pyplot as plt\n",
    "import yaml\n",
    "import torch\n",
    "from matplotlib import colormaps\n",
    "from matplotlib.colors import Normalize\n",
    "\n",
    "from price_net.configs import TrainingConfig, EvaluationConfig\n",
    "from price_net.datamodule import PriceAssociationDataModule\n",
    "from price_net.models import PriceAssociatorLightningModule\n",
    "from price_net.schema import PriceAssociationScene\n",
    "from price_net.utils import plot_price_scene\n",
    "from price_net.enums import PredictionStrategy"
   ]
  },
  {
   "cell_type": "code",
   "execution_count": null,
   "id": "e1b470e6",
   "metadata": {},
   "outputs": [],
   "source": [
    "while True:\n",
    "    config_path = Path(input(\"Enter the path to the eval config of the model whose predictions will be viewed: \"))\n",
    "    try:\n",
    "        with open(config_path, \"r\") as f:\n",
    "            eval_config = EvaluationConfig(**yaml.safe_load(f))\n",
    "        break\n",
    "    except Exception:\n",
    "        print(\"Invalid path. Try again.\")"
   ]
  },
  {
   "cell_type": "code",
   "execution_count": 3,
   "id": "3f479b93",
   "metadata": {},
   "outputs": [],
   "source": [
    "ckpt_path = Path(\"..\") / eval_config.ckpt_path\n",
    "model = PriceAssociatorLightningModule.load_from_checkpoint(ckpt_path).eval()\n",
    "with open(Path(\"..\") / eval_config.trn_config_path, \"r\") as f:\n",
    "    training_config = TrainingConfig(**yaml.safe_load(f))\n",
    "\n",
    "datamodule = PriceAssociationDataModule(\n",
    "    data_dir=Path(\"..\") / training_config.dataset_dir,\n",
    "    input_reduction=training_config.model.input_reduction,\n",
    "    prediction_strategy=training_config.model.prediction_strategy,\n",
    "    featurization_method=training_config.model.featurization_method,\n",
    "    use_depth=training_config.model.use_depth,\n",
    ")\n",
    "datamodule.setup(\"test\")\n",
    "\n",
    "dataset = datamodule.test\n",
    "with open(dataset.root_dir / dataset.RAW_PRICE_SCENES_FNAME, \"r\") as f:\n",
    "    raw_scenes = [PriceAssociationScene(**scene) for scene in json.load(f)]\n",
    "raw_scenes = {scene.scene_id: scene for scene in raw_scenes}"
   ]
  },
  {
   "cell_type": "code",
   "execution_count": 4,
   "id": "aca08aa7",
   "metadata": {},
   "outputs": [],
   "source": [
    "@torch.inference_mode()\n",
    "def plot_scene(idx: int, threshold: float):\n",
    "    plt.close()\n",
    "    X, y, scene_id = dataset[idx]\n",
    "    group_ids = dataset.instances[dataset.scene_id_to_indices[scene_id]][\"group_id\"].to_list()\n",
    "    clean_scene_id = str(scene_id).split(\"__\")[0]\n",
    "    scene = raw_scenes[clean_scene_id]\n",
    "    id_to_product_group = {group.group_id: group for group in scene.product_groups}\n",
    "\n",
    "    images_dir = datamodule.test.root_dir / datamodule.test.IMAGES_DIR\n",
    "    price_centroids = X[:, 5:7]\n",
    "\n",
    "    if training_config.model.prediction_strategy == PredictionStrategy.JOINT:\n",
    "        X = X.unsqueeze(0)\n",
    "    \n",
    "    probs = model.forward(X).sigmoid().flatten()\n",
    "\n",
    "    fig, axs = plt.subplots(1, 2, width_ratios=[1.5, 2])\n",
    "    axs: list[plt.Axes]\n",
    "    \n",
    "    plot_price_scene(scene, ax=axs[0])\n",
    "\n",
    "    norm = Normalize(vmin=0.0, vmax=1.0)\n",
    "    good_cmap = colormaps[\"Greens\"]\n",
    "    bad_cmap = colormaps[\"Reds\"]\n",
    "    for price_centroid, group_id, pred_prob, label in zip(price_centroids, group_ids, probs, y):\n",
    "        pred_association = pred_prob > threshold\n",
    "        if pred_association:\n",
    "            color = good_cmap(norm(pred_prob)) if label.item() == 1 else bad_cmap(norm(pred_prob))\n",
    "            for prod_bbox in [scene.product_bboxes[id_] for id_ in id_to_product_group[group_id].product_bbox_ids]:\n",
    "                axs[0].plot(\n",
    "                    [prod_bbox.cx, price_centroid[0]],\n",
    "                    [prod_bbox.cy, price_centroid[1]],\n",
    "                    color=color,\n",
    "                    alpha=0.3,\n",
    "                )\n",
    "\n",
    "    axs[0].set_xlim(0.0, 1.0)\n",
    "    axs[0].set_ylim(1.0, 0.0)\n",
    "    axs[0].set_aspect(\"equal\")\n",
    "\n",
    "    axs[1].imshow(plt.imread(images_dir / f\"{clean_scene_id}.jpg\"))\n",
    "    axs[1].axis(\"off\")\n",
    "    fig.tight_layout()\n",
    "    plt.show()"
   ]
  },
  {
   "cell_type": "code",
   "execution_count": null,
   "id": "f6bab8a6",
   "metadata": {},
   "outputs": [],
   "source": [
    "display_func = lambda idx, threshold: plot_scene(idx=idx, threshold=threshold)\n",
    "idx_slider = widgets.IntSlider(value=0, min=0, max=len(dataset)-1, step=1, description=\"Scene Index\")\n",
    "threshold_slider = widgets.FloatSlider(value=0.5, min=0.0, max=1.0, step=0.01, description=\"Threshold\")\n",
    "display(widgets.interact(display_func, idx=idx_slider, threshold=threshold_slider))"
   ]
  }
 ],
 "metadata": {
  "kernelspec": {
   "display_name": "Python 3 (ipykernel)",
   "language": "python",
   "name": "python3"
  },
  "language_info": {
   "codemirror_mode": {
    "name": "ipython",
    "version": 3
   },
   "file_extension": ".py",
   "mimetype": "text/x-python",
   "name": "python",
   "nbconvert_exporter": "python",
   "pygments_lexer": "ipython3",
   "version": "3.10.17"
  }
 },
 "nbformat": 4,
 "nbformat_minor": 5
}
